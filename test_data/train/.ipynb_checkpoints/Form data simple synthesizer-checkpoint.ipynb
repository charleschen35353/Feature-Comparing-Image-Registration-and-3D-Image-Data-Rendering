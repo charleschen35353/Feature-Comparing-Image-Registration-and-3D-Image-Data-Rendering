{
 "cells": [
  {
   "cell_type": "code",
   "execution_count": 2,
   "metadata": {},
   "outputs": [],
   "source": [
    "import glob\n",
    "from PIL import Image\n",
    "import numpy as np\n",
    "import matplotlib.pyplot as plt\n",
    "import matplotlib.image as mpimg\n",
    "import random\n",
    "\n",
    "def rgb2gray(rgb):\n",
    "    if len(rgb.shape) == 3:\n",
    "        r, g, b = rgb[:,:,0], rgb[:,:,1], rgb[:,:,2]\n",
    "        gray = 0.2989 * r + 0.5870 * g + 0.1140 * b\n",
    "        return gray\n",
    "    else:\n",
    "        return rgb\n",
    "\n",
    "\n",
    "syns = []\n",
    "for f in glob.iglob(\"./syn_sources/*\"):\n",
    "    img = Image.open(f)\n",
    "    img = np.asarray(img)\n",
    "    img = rgb2gray(img)\n",
    "    syns.append(img)\n"
   ]
  },
  {
   "cell_type": "code",
   "execution_count": 3,
   "metadata": {},
   "outputs": [
    {
     "name": "stdout",
     "output_type": "stream",
     "text": [
      "1.15.4\n"
     ]
    }
   ],
   "source": [
    "print(np.__version__)"
   ]
  },
  {
   "cell_type": "code",
   "execution_count": 5,
   "metadata": {},
   "outputs": [],
   "source": [
    "\n",
    "save_dir = \"./ref/\"\n",
    "syned = False\n",
    "\n",
    "for f in glob.iglob(\"./docs/*\"):\n",
    "    im = Image.open(f)\n",
    "    filename = f.strip().split(\"/\")[-1]\n",
    "    img = np.asarray(im.copy())\n",
    "    img.setflags(write=1)\n",
    "    val_w = int(img.shape[0] * 0.75)\n",
    "    val_h = int(img.shape[1] * 0.2)\n",
    "    \n",
    "    thres = 0.5\n",
    "    ind = 0\n",
    "    aval_mask = np.zeros_like(img)\n",
    "    while ind < len(syns): \n",
    "        if random.random() < thres:\n",
    "            w_loc = random.randint( int(0.5*(img.shape[0] - val_w)), int( img.shape[0] - 0.5*(img.shape[0] - val_w)) )\n",
    "            h_loc = random.randint( int(0.5*(img.shape[1] - val_h)), int( img.shape[1] - 0.5*(img.shape[1] - val_h)) )\n",
    "            s = syns[ind]\n",
    "            s = rgb2gray(s)\n",
    "\n",
    "            if np.sum(aval_mask[w_loc:w_loc + s.shape[0], h_loc: h_loc+s.shape[1]]) == 0:\n",
    "                img[w_loc:w_loc + s.shape[0], h_loc: h_loc+s.shape[1]] = s[:,:min(s.shape[1], img.shape[1]-h_loc)]\n",
    "                aval_mask[w_loc:w_loc + s.shape[0], h_loc: h_loc+s.shape[1]] = 1\n",
    "                syned = True\n",
    "            else:\n",
    "                ind +=1\n",
    "        else:\n",
    "            ind +=1 \n",
    "            \n",
    "    if not syned:\n",
    "        s = syns[random.random(0,len(syns))]\n",
    "        s = rgb2gray(s)\n",
    "        w_loc = random.randint( int(0.5*(img.shape[0] - val_w)), int( img.shape[0] - 0.5*(img.shape[0] - val_w)) )\n",
    "        h_loc = random.randint( int(0.5*(img.shape[1] - val_h)), int( img.shape[1] - 0.5*(img.shape[1] - val_h)) )\n",
    "        img[w_loc:w_loc + s.shape[0], h_loc: h_loc+s.shape[1]] = s\n",
    "        \n",
    "    result = Image.fromarray(img)\n",
    "    result.save(save_dir + filename)\n"
   ]
  },
  {
   "cell_type": "code",
   "execution_count": null,
   "metadata": {},
   "outputs": [],
   "source": []
  }
 ],
 "metadata": {
  "kernelspec": {
   "display_name": "Python 3",
   "language": "python",
   "name": "python3"
  },
  "language_info": {
   "codemirror_mode": {
    "name": "ipython",
    "version": 3
   },
   "file_extension": ".py",
   "mimetype": "text/x-python",
   "name": "python",
   "nbconvert_exporter": "python",
   "pygments_lexer": "ipython3",
   "version": "3.6.8"
  }
 },
 "nbformat": 4,
 "nbformat_minor": 4
}
